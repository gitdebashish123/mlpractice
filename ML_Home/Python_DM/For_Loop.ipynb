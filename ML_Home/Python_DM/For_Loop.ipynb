{
 "cells": [
  {
   "cell_type": "code",
   "execution_count": 6,
   "metadata": {},
   "outputs": [],
   "source": [
    "exp = [10,20,30,40,50]\n",
    "sum = 0"
   ]
  },
  {
   "cell_type": "code",
   "execution_count": 7,
   "metadata": {},
   "outputs": [
    {
     "name": "stdout",
     "output_type": "stream",
     "text": [
      "150\n"
     ]
    }
   ],
   "source": [
    "for i in exp:\n",
    "    sum = sum + i\n",
    "print(sum)"
   ]
  },
  {
   "cell_type": "code",
   "execution_count": 13,
   "metadata": {},
   "outputs": [
    {
     "name": "stdout",
     "output_type": "stream",
     "text": [
      "0\n",
      "1\n",
      "2\n",
      "3\n",
      "4\n",
      "5\n",
      "6\n",
      "7\n",
      "8\n",
      "9\n"
     ]
    }
   ],
   "source": [
    "for i in range(10):\n",
    "    print(i)"
   ]
  },
  {
   "cell_type": "code",
   "execution_count": 16,
   "metadata": {},
   "outputs": [
    {
     "name": "stdout",
     "output_type": "stream",
     "text": [
      "keep searching\n",
      "keep searching\n",
      "key found :  chair\n"
     ]
    }
   ],
   "source": [
    "key_loc=\"chair\"\n",
    "locations = [\"bedroom\",\"kitchen\",\"chair\",\"bathroom\",\"drawing room\"]\n",
    "\n",
    "for i in locations:\n",
    "    if i==key_loc:\n",
    "        print(\"key found : \",i)\n",
    "        break\n",
    "    else:\n",
    "        print(\"keep searching\")\n",
    "    "
   ]
  },
  {
   "cell_type": "code",
   "execution_count": 17,
   "metadata": {},
   "outputs": [],
   "source": [
    "#square of numbers between 1 to 5 excepts even number"
   ]
  },
  {
   "cell_type": "code",
   "execution_count": 20,
   "metadata": {},
   "outputs": [
    {
     "name": "stdout",
     "output_type": "stream",
     "text": [
      "square of the number is :  1\n",
      "Even numbers :  2\n",
      "square of the number is :  9\n",
      "Even numbers :  4\n",
      "square of the number is :  25\n",
      "Even numbers :  6\n",
      "square of the number is :  49\n",
      "Even numbers :  8\n",
      "square of the number is :  81\n",
      "Even numbers :  10\n"
     ]
    }
   ],
   "source": [
    "for i in range(1,11):\n",
    "    if i % 2 != 0:\n",
    "        print(\"square of the number is : \",i*i)\n",
    "    else:\n",
    "        print(\"Even numbers : \",i)"
   ]
  },
  {
   "cell_type": "code",
   "execution_count": 22,
   "metadata": {},
   "outputs": [
    {
     "name": "stdout",
     "output_type": "stream",
     "text": [
      "1\n",
      "2\n",
      "3\n",
      "4\n",
      "5\n"
     ]
    }
   ],
   "source": [
    "i=1\n",
    "while i<=5:\n",
    "    print(i)\n",
    "    i=i+1"
   ]
  },
  {
   "cell_type": "code",
   "execution_count": 23,
   "metadata": {},
   "outputs": [],
   "source": [
    "result = [\"heads\",\"tails\",\"tails\",\"heads\",\"tails\",\"heads\",\"heads\",\"tails\",\"tails\",\"tails\"]\n",
    "\n"
   ]
  },
  {
   "cell_type": "code",
   "execution_count": 24,
   "metadata": {},
   "outputs": [
    {
     "data": {
      "text/plain": [
       "4"
      ]
     },
     "execution_count": 24,
     "metadata": {},
     "output_type": "execute_result"
    }
   ],
   "source": [
    "result.count(\"heads\")"
   ]
  },
  {
   "cell_type": "code",
   "execution_count": 27,
   "metadata": {},
   "outputs": [
    {
     "name": "stdout",
     "output_type": "stream",
     "text": [
      "4\n"
     ]
    }
   ],
   "source": [
    "t=0\n",
    "for i in result:\n",
    "    if i==\"heads\":\n",
    "        t=t+1\n",
    "print(t)"
   ]
  },
  {
   "cell_type": "markdown",
   "metadata": {},
   "source": [
    "Your monthly expense list (from Jan to May) looks like this,\n",
    "\n",
    "    expense_list = [2340, 2500, 2100, 3100, 2980]\n",
    "\n",
    "    Write a program that asks you to enter an expense amount and program should tell you in which month that expense occurred. If expense is not found then convey   that as well"
   ]
  },
  {
   "cell_type": "code",
   "execution_count": null,
   "metadata": {},
   "outputs": [],
   "source": [
    "month_list = [\"January\", \"February\", \"March\", \"April\", \"May\"] \n",
    "expense_list = [2340, 2500, 2100, 3100, 2980]\n"
   ]
  },
  {
   "cell_type": "code",
   "execution_count": null,
   "metadata": {},
   "outputs": [],
   "source": [
    "e = input(\"Enter expense amount: \")"
   ]
  },
  {
   "cell_type": "code",
   "execution_count": 31,
   "metadata": {},
   "outputs": [
    {
     "ename": "IndentationError",
     "evalue": "expected an indented block (<ipython-input-31-fd90a1737227>, line 7)",
     "output_type": "error",
     "traceback": [
      "\u001b[0;36m  File \u001b[0;32m\"<ipython-input-31-fd90a1737227>\"\u001b[0;36m, line \u001b[0;32m7\u001b[0m\n\u001b[0;31m    if e == expense_list[i]: month = i\u001b[0m\n\u001b[0m     ^\u001b[0m\n\u001b[0;31mIndentationError\u001b[0m\u001b[0;31m:\u001b[0m expected an indented block\n"
     ]
    }
   ],
   "source": [
    "month_list = [\"January\", \"February\", \"March\", \"April\", \"May\"] \n",
    "expense_list = [2340, 2500, 2100, 3100, 2980]\n",
    "e = input(\"Enter expense amount: \")\n",
    "e = int(e)\n",
    "month = -1\n",
    "for i in range(len(expense_list)):\n",
    "if e == expense_list[i]: month = i\n",
    "break\n",
    "if month != -1:\n",
    "print('You spent',e,'in',month_list[month])\n",
    "else:\n",
    "print('You didn\\'t spend',e,'in any month')\n"
   ]
  },
  {
   "cell_type": "code",
   "execution_count": 29,
   "metadata": {},
   "outputs": [
    {
     "name": "stdout",
     "output_type": "stream",
     "text": [
      "*****\n"
     ]
    }
   ],
   "source": [
    "for i in range(1,6): s = ''\n",
    "for j in range(i): s += '*'\n",
    "print(s)"
   ]
  },
  {
   "cell_type": "code",
   "execution_count": 34,
   "metadata": {},
   "outputs": [
    {
     "name": "stdout",
     "output_type": "stream",
     "text": [
      "*\n",
      "**\n",
      "***\n",
      "****\n",
      "*****\n"
     ]
    }
   ],
   "source": [
    "\n",
    "for i in range(1,6): \n",
    "    s = ''\n",
    "for j in range(i): \n",
    "    s += '*'\n",
    "    print(s)"
   ]
  },
  {
   "cell_type": "code",
   "execution_count": null,
   "metadata": {},
   "outputs": [],
   "source": []
  }
 ],
 "metadata": {
  "kernelspec": {
   "display_name": "Python 3",
   "language": "python",
   "name": "python3"
  },
  "language_info": {
   "codemirror_mode": {
    "name": "ipython",
    "version": 3
   },
   "file_extension": ".py",
   "mimetype": "text/x-python",
   "name": "python",
   "nbconvert_exporter": "python",
   "pygments_lexer": "ipython3",
   "version": "3.6.5"
  }
 },
 "nbformat": 4,
 "nbformat_minor": 2
}
