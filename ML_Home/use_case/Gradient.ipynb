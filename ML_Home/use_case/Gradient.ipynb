{
 "cells": [
  {
   "cell_type": "markdown",
   "metadata": {},
   "source": [
    "<h2>Gradient Descent</h2>"
   ]
  },
  {
   "cell_type": "code",
   "execution_count": 1,
   "metadata": {},
   "outputs": [],
   "source": [
    "import numpy as np"
   ]
  },
  {
   "cell_type": "code",
   "execution_count": 13,
   "metadata": {},
   "outputs": [],
   "source": [
    "x = np.array([1,2,3,4,5])\n",
    "y = np.array([5,7,9,11,13])\n",
    "n = len(x)\n",
    "learning_rate=0.01\n",
    "iterations=5"
   ]
  },
  {
   "cell_type": "code",
   "execution_count": 15,
   "metadata": {},
   "outputs": [],
   "source": [
    "def grad_desc(x,y):\n",
    "    m_curr=0\n",
    "    b_curr=0\n",
    "    \n",
    "    for i in range(iterations):\n",
    "        y_predict = m_curr * x + b_curr\n",
    "        cost = (1/n)*sum(val ** 2 for val in (y-y_predict))\n",
    "        md = -(2/n)*sum(x * (y-y_predict))\n",
    "        bd = -(2/n)*sum((y-y_predict))\n",
    "        m_curr = m_curr - learning_rate*md\n",
    "        b_curr = b_curr - learning_rate*bd\n",
    "        print(\"m {},b {}, cost {},iterations {}\".format(m_curr,b_curr,cost,i))"
   ]
  },
  {
   "cell_type": "code",
   "execution_count": 16,
   "metadata": {},
   "outputs": [
    {
     "name": "stdout",
     "output_type": "stream",
     "text": [
      "m 0.62,b 0.18, cost 89.0,iterations 0\n",
      "m 1.0928,b 0.3192, cost 52.25039999999999,iterations 1\n",
      "m 1.453232,b 0.42724799999999996, cost 30.831949440000002,iterations 2\n",
      "m 1.7278860800000002,b 0.5115091199999999, cost 18.347751350784,iterations 3\n",
      "m 1.9370605952000002,b 0.5776057727999999, cost 11.070010749324897,iterations 4\n"
     ]
    }
   ],
   "source": [
    "grad_desc(x,y)"
   ]
  },
  {
   "cell_type": "code",
   "execution_count": null,
   "metadata": {},
   "outputs": [],
   "source": []
  }
 ],
 "metadata": {
  "kernelspec": {
   "display_name": "Python 3",
   "language": "python",
   "name": "python3"
  },
  "language_info": {
   "codemirror_mode": {
    "name": "ipython",
    "version": 3
   },
   "file_extension": ".py",
   "mimetype": "text/x-python",
   "name": "python",
   "nbconvert_exporter": "python",
   "pygments_lexer": "ipython3",
   "version": "3.6.5"
  }
 },
 "nbformat": 4,
 "nbformat_minor": 2
}
